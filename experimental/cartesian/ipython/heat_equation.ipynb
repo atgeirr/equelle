{
 "metadata": {
  "name": "heat_equation"
 },
 "nbformat": 3,
 "nbformat_minor": 0,
 "worksheets": [
  {
   "cells": [
    {
     "cell_type": "code",
     "collapsed": false,
     "input": [
      "%pylab inline\n",
      "\n",
      "import glob\n",
      "import numpy as np\n",
      "import matplotlib.pyplot as plt \n",
      "import matplotlib.animation as animation"
     ],
     "language": "python",
     "metadata": {},
     "outputs": [
      {
       "output_type": "stream",
       "stream": "stdout",
       "text": [
        "\n",
        "Welcome to pylab, a matplotlib-based Python environment [backend: module://IPython.zmq.pylab.backend_inline].\n",
        "For more information, type 'help(pylab)'.\n"
       ]
      }
     ],
     "prompt_number": 20
    },
    {
     "cell_type": "code",
     "collapsed": false,
     "input": [
      "basename_regexp = \"../../../waveheights_*.csv\"\n",
      "files = glob.glob(basename_regexp)\n",
      "files.sort()"
     ],
     "language": "python",
     "metadata": {},
     "outputs": [],
     "prompt_number": 21
    },
    {
     "cell_type": "code",
     "collapsed": false,
     "input": [
      "fig = plt.figure()\n",
      "\n",
      "u1 = np.loadtxt(files[0], delimiter=',')\n",
      "u1_min = np.amin(u1) * 0.9\n",
      "u1_max = np.amax(u1) * 1.1\n",
      "\n",
      "im = plt.imshow(u1, interpolation='nearest')\n",
      "im.set_clim(u1_min, u1_max)\n",
      "plt.colorbar()\n",
      "\n",
      "\n",
      "ims = []\n",
      "for file in files:\n",
      "    u1 = np.loadtxt(file, delimiter=',')\n",
      "    im = plt.imshow(u1, interpolation='nearest')\n",
      "    im.set_clim(u1_min, u1_max)\n",
      "    ims.append((im, ))\n",
      "\n",
      "im_ani = animation.ArtistAnimation(fig, ims, interval=50, repeat_delay=200, blit=True)\n",
      "im_ani.save('im.mp4', metadata={'artist':'equelle'})\n",
      "\n",
      "plt.show()\n",
      "\n",
      "    "
     ],
     "language": "python",
     "metadata": {},
     "outputs": [
      {
       "output_type": "display_data",
       "png": "[encoded data removed]"
      }
     ],
     "prompt_number": 23
    },
    {
     "cell_type": "code",
     "collapsed": false,
     "input": [
      "    "
     ],
     "language": "python",
     "metadata": {},
     "outputs": [],
     "prompt_number": 22
    },
    {
     "cell_type": "code",
     "collapsed": false,
     "input": [],
     "language": "python",
     "metadata": {},
     "outputs": [],
     "prompt_number": 22
    }
   ],
   "metadata": {}
  }
 ]
}