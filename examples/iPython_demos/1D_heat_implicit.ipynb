{
 "metadata": {
  "name": "1D_heat_implicit"
 },
 "nbformat": 3,
 "nbformat_minor": 0,
 "worksheets": [
  {
   "cells": [
    {
     "cell_type": "markdown",
     "metadata": {},
     "source": [
      "This demo example shows ..."
     ]
    },
    {
     "cell_type": "code",
     "collapsed": false,
     "input": [
      "%pylab inline"
     ],
     "language": "python",
     "metadata": {},
     "outputs": [
      {
       "output_type": "stream",
       "stream": "stdout",
       "text": [
        "\n",
        "Welcome to pylab, a matplotlib-based Python environment [backend: module://IPython.zmq.pylab.backend_inline].\n",
        "For more information, type 'help(pylab)'.\n"
       ]
      }
     ],
     "prompt_number": 1
    },
    {
     "cell_type": "markdown",
     "metadata": {},
     "source": [
      "Se ogs\u00e5 notebook for den eksplisitte l\u00f8sningen. Vi \u00f8nsker n\u00e5 \u00e5 l\u00f8se varmelikningen implisitt,\n",
      "\n",
      "$\\frac{\\delta u}{\\delta t} = \\kappa \\frac{\\delta^2u}{\\delta x^2}$.\n",
      "\n",
      "Diskretisert implisitt med hensyn p\u00e5 tid f\u00e5r vi\n",
      "\n",
      "$\\frac{1}{\\Delta t}\\left(u_i^{k} - u_i^{k-1}\\right) = \\frac{\\kappa}{\\Delta x^2} \\left(u^k_{i-1} - 2u_i^k + u_{i+1}^k \\right)$\n",
      "\n",
      "og v\u00e5r stensil\n",
      "\n",
      "$u_i^{k-1} = -su^k_{i-1} +(1+2s)u_i^k - su_{i+1}^k , \\quad s=\\frac{\\kappa\\Delta t}{\\Delta x^2}$.\n",
      "\n",
      "Om vi lar (\"flux-koeffisienter\") $F_i = (L_i, R_i)$ v\u00e6re s.a. flux fra celle $i$ til celle $i+1$ er gitt ved $L_i\\cdot u_i + R_i\\cdot u_{i+1}$,\n",
      "kan vi skrive dette som\n",
      "\n",
      "$-s\\cdot F^n_{i-1} + u_i^n + s\\cdot F^n_i = u_i^{n-1}$,\n",
      "\n",
      "som illustrerer sammenhengen mellom matrisa for likningssystemet og fluksene samt verdiene $u_i^n$ for l\u00f8sningen."
     ]
    },
    {
     "cell_type": "code",
     "collapsed": false,
     "input": [
      "import numpy as np\n",
      "import time\n",
      "import matplotlib.pyplot as plt\n",
      "from IPython.display import clear_output\n",
      "\n",
      "# Grid spacing\n",
      "dx = 0.5\n",
      "\n",
      "# Heat diffusion constant\n",
      "kappa = 0.3\n",
      "\n",
      "# Maximum time step size (constrained by CFL)\n",
      "dt = dx*dx/(2*kappa)\n",
      "\n",
      "# Hmm... That was the dt from the explicit case... Setting it a bit larger now:\n",
      "dt = 5.0;\n",
      "\n",
      "# Number of grid cells\n",
      "n = 6\n",
      "\n",
      "# Boundary conditions\n",
      "r0 = 0.5\n",
      "r1 = 1.5\n",
      "\n",
      "s = kappa * dt / (dx*dx)\n",
      "\n",
      "# Coefficients for fluxes, one flux for each face, i.e., n+1 of these, and two coefficients for each flux, \n",
      "# in essence a delta for face indices, resulting in cell indices... ugh.\n",
      "f = np.zeros( (n+1, 2) )\n",
      "for i in range(0, n+1):\n",
      "    f[i] = np.array( [1, -1] )\n",
      "f[0] = np.array( [nan, nan] ) # should not be used\n",
      "f[n] = np.array( [nan, nan] ) # should not be used"
     ],
     "language": "python",
     "metadata": {},
     "outputs": [],
     "prompt_number": 161
    },
    {
     "cell_type": "code",
     "collapsed": false,
     "input": [
      "# Plot or not\n",
      "pl = False\n",
      "\n",
      "if (pl):\n",
      "    fig, ax = plt.subplots()"
     ],
     "language": "python",
     "metadata": {},
     "outputs": [],
     "prompt_number": 162
    },
    {
     "cell_type": "code",
     "collapsed": false,
     "input": [
      "# Initial temperatures\n",
      "u = np.linspace(0.0, 0.0, n)\n",
      "u[0] = r0\n",
      "u[n-1] = r1\n",
      "\n",
      "A = np.zeros( (n, n) )\n",
      "\n",
      "# Assemble the matrix one cell at a time. (This loops over interior cells, for indices 1, ..., n-2 inclusive.)\n",
      "for i in range(1, n-1):\n",
      "    # The equation system is: -s(u_{i-1}^n - u_i^n) + u_i^n +s(u_i^n - u_{i+1}^n) = u_i^{n-1}, for i=0, ..., n-1.\n",
      "    # With f[i] = [1, -1], we get the following.\n",
      "    A[i, i-1:i+1] += -s*f[i]\n",
      "    A[i, i  ]     += 1\n",
      "    A[i, i:i+2]   += s*f[i+1]\n",
      "\n",
      "# Apply boundary conditions,  # u_i^n = u_i^n-1, for i=0 and i=n-1.\n",
      "A[0, 0]     = 1\n",
      "A[n-1, n-1] = 1"
     ],
     "language": "python",
     "metadata": {},
     "outputs": [],
     "prompt_number": 163
    },
    {
     "cell_type": "code",
     "collapsed": false,
     "input": [
      "if (not(pl)):\n",
      "    print \"A =\\n\", A\n",
      "    print -1, \"u =\", u\n",
      "    \n",
      "for k in range(0, 20):\n",
      "    # Perform one timestep\n",
      "    \n",
      "    # Solve\n",
      "    v = np.linalg.solve(A, u);\n",
      "\n",
      "    # Swap, for the next round\n",
      "    u, v = v, u\n",
      "    \n",
      "    if (pl):\n",
      "        # Plot the solution\n",
      "        x = np.linspace(0.0, n-1, n) + 0.5\n",
      "        plot(x, u, 'r.-', label='$u^{k+1}$')\n",
      "        pylab.ylim([r0-0.5,r1+0.5])\n",
      "        #time.sleep(0.2)\n",
      "        clear_output()\n",
      "        display(fig)\n",
      "        ax.cla()\n",
      "        title(\"Time = \" + str(dt*k))\n",
      "        legend()\n",
      "    else:\n",
      "        print k, \"u =\", u\n",
      "\n",
      "if (pl):\n",
      "    plt.close()"
     ],
     "language": "python",
     "metadata": {},
     "outputs": [
      {
       "output_type": "stream",
       "stream": "stdout",
       "text": [
        "A =\n",
        "[[  1.   0.   0.   0.   0.   0.]\n",
        " [ -6.  13.  -6.   0.   0.   0.]\n",
        " [  0.  -6.  13.  -6.   0.   0.]\n",
        " [  0.   0.  -6.  13.  -6.   0.]\n",
        " [  0.   0.   0.  -6.  13.  -6.]\n",
        " [  0.   0.   0.   0.   0.   1.]]\n",
        "-1 u = [ 0.5  0.   0.   0.   0.   1.5]\n",
        "0 u = [ 0.5         0.49349418  0.5692374   0.73985351  1.03377854  1.5       ]\n",
        "1 u = [ 0.5         0.6353378   0.79431621  0.99080776  1.22912501  1.5       ]\n",
        "2 u = [ 0.5         0.679984    0.86740904  1.06701621  1.27932479  1.5       ]\n",
        "3 u = [ 0.5         0.69386902  0.89005221  1.09000926  1.29379849  1.5       ]\n",
        "4 u = [ 0.5         0.69813144  0.89697327  1.09696862  1.29812386  1.5       ]\n",
        "5 u = [ 0.5         0.69943167  0.89908004  1.09907953  1.29943085  1.5       ]\n",
        "6 u = [ 0.5         0.69982727  0.89972048  1.09972042  1.29982718  1.5       ]\n",
        "7 u = [ 0.5         0.69994752  0.89991508  1.09991507  1.29994751  1.5       ]\n",
        "8 u = [ 0.5         0.69998406  0.8999742   1.0999742   1.29998406  1.5       ]\n",
        "9 u = [ 0.5         0.69999516  0.89999216  1.09999216  1.29999516  1.5       ]\n",
        "10 u = [ 0.5         0.69999853  0.89999762  1.09999762  1.29999853  1.5       ]\n",
        "11 u = [ 0.5         0.69999955  0.89999928  1.09999928  1.29999955  1.5       ]\n",
        "12 u = [ 0.5         0.69999986  0.89999978  1.09999978  1.29999986  1.5       ]\n",
        "13 u = [ 0.5         0.69999996  0.89999993  1.09999993  1.29999996  1.5       ]\n",
        "14 u = [ 0.5         0.69999999  0.89999998  1.09999998  1.29999999  1.5       ]\n",
        "15 u = [ 0.5         0.7         0.89999999  1.09999999  1.3         1.5       ]\n",
        "16 u = [ 0.5  0.7  0.9  1.1  1.3  1.5]\n",
        "17 u = [ 0.5  0.7  0.9  1.1  1.3  1.5]\n",
        "18 u = [ 0.5  0.7  0.9  1.1  1.3  1.5]\n",
        "19 u = [ 0.5  0.7  0.9  1.1  1.3  1.5]\n"
       ]
      }
     ],
     "prompt_number": 164
    },
    {
     "cell_type": "markdown",
     "metadata": {},
     "source": [
      "Ok, what can we imagine a DSL-program for this would look like?"
     ]
    },
    {
     "cell_type": "code",
     "collapsed": false,
     "input": [
      "%%file 1D_heat_implicit.txt\n",
      "\n",
      "# The grid details should be input to the DSL program\n",
      "grid.type = RegularCartesian1D\n",
      "grid.x0 = 0.0\n",
      "grid.x1 = 1.0\n",
      "grid.n = 6\n",
      "\n",
      "# Physics that requires specification\n",
      "physics.diffusion_constant = 0.3 # Heat diffusion constant. Or should this rather be an input parameter to the generated simulator?\n",
      "\n",
      "boundary.condition_type = Dirichlet\n",
      "boundary.val0 = 0.5\n",
      "boundary.val1 = 1.5\n",
      "\n",
      "initial.value = 0 # Or should this rather be an input parameter to the generated simulator?\n",
      "initial.boundary = BoundaryConditions # Overriding the initial value specified above, for the boundaries\n",
      "\n",
      "# What kind of simulator should be generated?\n",
      "simulator.type = Implicit # Explicit or Implicit\n",
      "simulator.basis = Constant # Temperatures averaged over cells\n",
      "\n",
      "dt = MaxStableTimeStep # \"Special\" value for a variable (\"Local variables\" in the DSL program...)\n",
      "dx = grid.getSpacing() # (x1-x0)/n for 1D grid\n",
      "s = physics.diffusion_constant * dt / (dx*dx) # Think \"Python name\" more than \"variable\". The stencil-specification below makes use of this 's'...\n",
      "\n",
      "simulator.stencil = (-s, 1+2s, -s) # -s(u_{i-1}^n - u_i^n) + u_i^n +s(u_i^n - u_{i+1}^n) = u_i^{n-1},\n",
      "# Hmm. Does it make more sense not to specify this, but instead let this be generated from \"flux considerations\"?\n",
      "# If the extremas consist of either telling the generator \"solve for heat\" or actually feeding it detailed C++-code, where in between should we define our sweet spot?!\n",
      "\n",
      "simulator.generate(\"generated_1D_heat_implicit.cpp\")"
     ],
     "language": "python",
     "metadata": {},
     "outputs": [
      {
       "output_type": "stream",
       "stream": "stdout",
       "text": [
        "Overwriting 1D_heat_implicit.txt\n"
       ]
      }
     ],
     "prompt_number": 165
    },
    {
     "cell_type": "markdown",
     "metadata": {},
     "source": [
      "And what should the generator produce? Maybe something like the following.\n",
      "First a small routine for the EB3: (And no, I don't remember what EB3 stands for... EBBB = Equelle Basic Building Blocks?)"
     ]
    },
    {
     "cell_type": "code",
     "collapsed": false,
     "input": [
      "%%file EB3_sample_linSystemSolver.cpp\n",
      "\n",
      "#include <iostream>\n",
      "#include <cmath>\n",
      "#include <utility>\n",
      "#include <cstring>\n",
      "\n",
      "// Solving the n x n system a x = b, upper triangular matrix ends up in uppertri,\n",
      "// b_scratch must have length n, solution ends up in x, returns true if non-singular,\n",
      "// false otherwise. Matrices in row-major order. \n",
      "bool GaussElimIfNonSingular(const int n,\n",
      "\t\t\t    const double * const a, double * const uppertri,\n",
      "\t\t\t    const double * const b, double * const b_scratch,\n",
      "\t\t\t    double * const x)\n",
      "{\n",
      "    memcpy(uppertri, a, n*n*sizeof(double));\n",
      "    memcpy(b_scratch, b, n*sizeof(double));\n",
      "    memset(x, 0, n*sizeof(double));\n",
      "    for (int j=0; j<n; j++) {\n",
      "        int maxrow=j;\n",
      "        for (int i=j+1; i<n; i++)\n",
      "            if (fabs(uppertri[i*n+j]) > fabs(uppertri[maxrow*n+j]))\n",
      "                maxrow = i;\n",
      "        for (int k=j; k<n; k++)\n",
      "            std::swap(uppertri[j*n+k], uppertri[maxrow*n+k]);\n",
      "        std::swap(b_scratch[j], b_scratch[maxrow]);\n",
      "        if (fabs(uppertri[j*n+j]) < 1e-12) // Singular?\n",
      "            return false;\n",
      "        for (int i=j+1; i<n; i++) {\n",
      "            const double tmp = uppertri[i*n+j] / uppertri[j*n+j];\n",
      "            b_scratch[i] -= b_scratch[j] * tmp;\n",
      "            for (int k=n-1; k>=j; k--)\n",
      "                uppertri[i*n+k] -= uppertri[j*n+k] * tmp;\n",
      "        }\n",
      "    }\n",
      "    x[n-1] = b_scratch[n-1] / uppertri[(n-1)*n+(n-1)];\n",
      "    for (int i=n-2; i>=0; i--) {\n",
      "        double tmp = uppertri[i*n+i+1] * x[i+1];\n",
      "        for (int k=i+2; k<n; k++)\n",
      "            tmp += uppertri[i*n+k] * x[k];\n",
      "        x[i] = (b_scratch[i] - tmp) / uppertri[i*n+i];\n",
      "    }\n",
      "    return true;\n",
      "}"
     ],
     "language": "python",
     "metadata": {},
     "outputs": [
      {
       "output_type": "stream",
       "stream": "stdout",
       "text": [
        "Overwriting EB3_sample_linSystemSolver.cpp\n"
       ]
      }
     ],
     "prompt_number": 166
    },
    {
     "cell_type": "code",
     "collapsed": false,
     "input": [
      "!g++ -Wall -O2 -c -o EB3_sample_linSystemSolver.o EB3_sample_linSystemSolver.cpp"
     ],
     "language": "python",
     "metadata": {},
     "outputs": [],
     "prompt_number": 167
    },
    {
     "cell_type": "markdown",
     "metadata": {},
     "source": [
      "And then the \"generated\" simulator:"
     ]
    },
    {
     "cell_type": "code",
     "collapsed": false,
     "input": [
      "%%file generated_1D_heat_implicit.cpp\n",
      "\n",
      "// E3B-headers to be included here\n",
      "bool GaussElimIfNonSingular(const int n,\n",
      "                            const double * const a, double * const uppertri,\n",
      "                            const double * const b, double * const b_scratch,\n",
      "                            double * const x);\n",
      "\n",
      "double u[6]; // Length from \"grid.n = 6\", type and dimension from \"grid.type = RegularCartesian1D\"\n",
      "double A[6][6]; // From \"simulator.type = Implicit\", \"grid.n = 6\" and \"simulator.basis = Constant\"\n",
      "\n",
      "void solution_init(void)\n",
      "{\n",
      "    for (int i=0; i<6; i++)\n",
      "        u[i] = 0.0; // From \"initial.value = 0\"\n",
      "    u[0] = 0.5; // From \"boundary.val0 = 0.5\"\n",
      "    u[5] = 1.5; // From \"boundary.val1 = 1.5\"\n",
      "}\n",
      "\n",
      "void system_init(const double s)\n",
      "{\n",
      "    const int stencil_length = 3;\n",
      "    const double stencil[stencil_length] = {-s, 1.0+2.0*s, -s}; // From \"simulator.stencil = (-s, 1+2s, -s)\"\n",
      "    for (int i=0; i<6; i++) {\n",
      "        for (int j=0; j<6; j++)\n",
      "            A[i][j] = 0.0;\n",
      "        // A[i][i] = 1.0; // got this in the stencil already\n",
      "        if ( (i>0) && (i<5) )\n",
      "            for (int j=0; j<3; j++)\n",
      "                A[i][i-stencil_length/2+j] += stencil[j];\n",
      "    }\n",
      "    A[0][0] = 1.0; // From the \"boundary.*\" entries:\n",
      "    A[5][5] = 1.0;\n",
      "}\n",
      "\n",
      "void init(void)\n",
      "{\n",
      "    // const double dx = 1.0/6.0; // From \"dx = grid.getSpacing()\"\n",
      "    const double dx = 0.5; // Overriding with the number from the iPython notebook, so that we can compare the results!\n",
      "    // const double dt = dx*dx/(2*0.3); // From \"dt = MaxStableTimeStep\"\n",
      "    // Hmm... This was the max dt for the *explicit* stencil...\n",
      "    const double dt = 5.0; // Trying a larger value (Note: Use the same as for the iPython notebook, so that we can compare results...)\n",
      "    system_init( 0.3 * dt / (dx*dx) ); // From \"physics.diffusion_constant = 0.3\" and \"s = physics.diffusion_constant * dt / (dx*dx)\"\n",
      "    solution_init();\n",
      "}\n",
      "\n",
      "void performOneTimeStep(void)\n",
      "{\n",
      "    double v[6], Ascratch[36], uScratch[6];\n",
      "\n",
      "    const bool nonSingular = GaussElimIfNonSingular(6, (double *)A, Ascratch, u, uScratch, v);\n",
      "    for (int i=0; i<6; i++)\n",
      "        u[i] = v[i];\n",
      "}"
     ],
     "language": "python",
     "metadata": {},
     "outputs": [
      {
       "output_type": "stream",
       "stream": "stdout",
       "text": [
        "Overwriting generated_1D_heat_implicit.cpp\n"
       ]
      }
     ],
     "prompt_number": 178
    },
    {
     "cell_type": "code",
     "collapsed": false,
     "input": [
      "!g++ -c -o generated_1D_heat_implicit.o generated_1D_heat_implicit.cpp"
     ],
     "language": "python",
     "metadata": {},
     "outputs": [],
     "prompt_number": 179
    },
    {
     "cell_type": "markdown",
     "metadata": {},
     "source": [
      "Let us test this in a small app"
     ]
    },
    {
     "cell_type": "code",
     "collapsed": false,
     "input": [
      "%%file simtest.cpp\n",
      "\n",
      "#include <iostream>\n",
      "\n",
      "// Contained in the \"generated\" C++-code:\n",
      "extern double u[6];\n",
      "void init(void);\n",
      "void performOneTimeStep(void);\n",
      "\n",
      "int main(int argc, char *argv[])\n",
      "{\n",
      "    init();\n",
      "    for (int i=0; i<20; i++) {\n",
      "        std::cout << i << \": \\t\";\n",
      "        for (int j=0; j<6; j++)\n",
      "             std::cout << u[j] << \" \";\n",
      "        std::cout << std::endl;\n",
      "        performOneTimeStep();\n",
      "    }\n",
      "    return 0;\n",
      "}"
     ],
     "language": "python",
     "metadata": {},
     "outputs": [
      {
       "output_type": "stream",
       "stream": "stdout",
       "text": [
        "Overwriting simtest.cpp"
       ]
      },
      {
       "output_type": "stream",
       "stream": "stdout",
       "text": [
        "\n"
       ]
      }
     ],
     "prompt_number": 180
    },
    {
     "cell_type": "code",
     "collapsed": false,
     "input": [
      "!g++ -o simtest simtest.cpp generated_1D_heat_implicit.o EB3_sample_linSystemSolver.o"
     ],
     "language": "python",
     "metadata": {},
     "outputs": [],
     "prompt_number": 181
    },
    {
     "cell_type": "code",
     "collapsed": false,
     "input": [
      "!simtest"
     ],
     "language": "python",
     "metadata": {},
     "outputs": [
      {
       "output_type": "stream",
       "stream": "stdout",
       "text": [
        "0: \t0.5 0 0 0 0 1.5 \r\n",
        "1: \t0.5 0.493494 0.569237 0.739854 1.03378 1.5 \r\n",
        "2: \t0.5 0.635338 0.794316 0.990808 1.22913 1.5 \r\n",
        "3: \t0.5 0.679984 0.867409 1.06702 1.27932 1.5 \r\n",
        "4: \t0.5 0.693869 0.890052 1.09001 1.2938 1.5 \r\n",
        "5: \t0.5 0.698131 0.896973 1.09697 1.29812 1.5 \r\n",
        "6: \t0.5 0.699432 0.89908 1.09908 1.29943 1.5 \r\n",
        "7: \t0.5 0.699827 0.89972 1.09972 1.29983 1.5 \r\n",
        "8: \t0.5 0.699948 0.899915 1.09992 1.29995 1.5 \r\n",
        "9: \t0.5 0.699984 0.899974 1.09997 1.29998 1.5 \r\n",
        "10: \t0.5 0.699995 0.899992 1.09999 1.3 1.5 \r\n",
        "11: \t0.5 0.699999 0.899998 1.1 1.3 1.5 \r\n",
        "12: \t0.5 0.7 0.899999 1.1 1.3 1.5 \r\n",
        "13: \t0.5 0.7 0.9 1.1 1.3 1.5 \r\n",
        "14: \t0.5 0.7 0.9 1.1 1.3 1.5 \r\n",
        "15: \t0.5 0.7 0.9 1.1 1.3 1.5 \r\n",
        "16: \t0.5 0.7 0.9 1.1 1.3 1.5 \r\n",
        "17: \t0.5 0.7 0.9 1.1 1.3 1.5 \r\n",
        "18: \t0.5 0.7 0.9 1.1 1.3 1.5 \r\n",
        "19: \t0.5 0.7 0.9 1.1 1.3 1.5 \r\n"
       ]
      }
     ],
     "prompt_number": 182
    },
    {
     "cell_type": "markdown",
     "metadata": {},
     "source": [
      "Hmm... A bit strange that this converges faster than the iPython version?! Better linear solver? iPython using *float* instead of *double* internally?"
     ]
    },
    {
     "cell_type": "code",
     "collapsed": false,
     "input": [],
     "language": "python",
     "metadata": {},
     "outputs": []
    }
   ],
   "metadata": {}
  }
 ]
}