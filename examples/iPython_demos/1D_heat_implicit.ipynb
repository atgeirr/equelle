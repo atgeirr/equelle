{
 "metadata": {
  "name": "1D_heat_implicit"
 },
 "nbformat": 3,
 "nbformat_minor": 0,
 "worksheets": [
  {
   "cells": [
    {
     "cell_type": "markdown",
     "metadata": {},
     "source": [
      "This demo example shows ..."
     ]
    },
    {
     "cell_type": "code",
     "collapsed": false,
     "input": [
      "%pylab inline"
     ],
     "language": "python",
     "metadata": {},
     "outputs": [
      {
       "output_type": "stream",
       "stream": "stdout",
       "text": [
        "\n",
        "Welcome to pylab, a matplotlib-based Python environment [backend: module://IPython.zmq.pylab.backend_inline].\n",
        "For more information, type 'help(pylab)'.\n"
       ]
      }
     ],
     "prompt_number": 1
    },
    {
     "cell_type": "markdown",
     "metadata": {},
     "source": [
      "Se ogs\u00e5 notebook for den eksplisitte l\u00f8sningen. Vi \u00f8nsker n\u00e5 \u00e5 l\u00f8se varmelikningen implisitt,\n",
      "\n",
      "$\\frac{\\delta u}{\\delta t} = \\kappa \\frac{\\delta^2u}{\\delta x^2}$.\n",
      "\n",
      "Diskretisert implisitt med hensyn p\u00e5 tid f\u00e5r vi\n",
      "\n",
      "$\\frac{1}{\\Delta t}\\left(u_i^{k} - u_i^{k-1}\\right) = \\frac{\\kappa}{\\Delta x^2} \\left(u^k_{i-1} - 2u_i^k + u_{i+1}^k \\right)$\n",
      "\n",
      "og v\u00e5r stensil\n",
      "\n",
      "$u_i^{k-1} = -su^k_{i-1} +(1+2s)u_i^k - su_{i+1}^k , \\quad s=\\frac{\\kappa\\Delta t}{\\Delta x^2}$.\n",
      "\n",
      "Om vi lar (\"flux-koeffisienter\") $F_i = (L_i, R_i)$ v\u00e6re s.a. flux fra celle $i$ til celle $i+1$ er gitt ved $L_i\\cdot u_i + R_i\\cdot u_{i+1}$,\n",
      "kan vi skrive dette som\n",
      "\n",
      "$-s\\cdot F^n_{i-1} + u_i^n + s\\cdot F^n_i = u_i^{n-1}$,\n",
      "\n",
      "som illustrerer sammenhengen mellom matrisa for likningssystemet og fluksene samt verdiene $u_i^n$ for l\u00f8sningen."
     ]
    },
    {
     "cell_type": "code",
     "collapsed": false,
     "input": [
      "import numpy as np\n",
      "import time\n",
      "import matplotlib.pyplot as plt\n",
      "from IPython.display import clear_output\n",
      "\n",
      "# Grid spacing\n",
      "dx = 0.5\n",
      "\n",
      "# Heat diffusion constant\n",
      "kappa = 0.3\n",
      "\n",
      "# Maximum time step size (constrained by CFL)\n",
      "dt = dx*dx/(2*kappa)\n",
      "\n",
      "# Number of grid cells\n",
      "n = 6\n",
      "\n",
      "# Boundary conditions\n",
      "r0 = 0.5\n",
      "r1 = 1.5\n",
      "\n",
      "# Initial temperatures\n",
      "u = np.linspace(0.0, 0.0, n)\n",
      "u[0] = r0\n",
      "u[n-1] = r1\n",
      "\n",
      "s = kappa * dt / (dx*dx)\n",
      "\n",
      "# Coefficients for fluxes, one flux for each face, i.e., n+1 of these, and two coefficients for each flux, \n",
      "# in essence a delta for face indices, resulting in cell indices... ugh.\n",
      "f = np.zeros( (n+1, 2) )\n",
      "for i in range(0, n+1):\n",
      "    f[i] = np.array( [1, -1] )\n",
      "f[0] = np.array( [nan, nan] ) # should not be used\n",
      "f[n] = np.array( [nan, nan] ) # should not be used\n",
      "\n",
      "# Plot or not\n",
      "pl = True\n",
      "\n",
      "if (pl):\n",
      "    fig, ax = plt.subplots()\n",
      "\n",
      "# Perform one timestep\n",
      "for k in range(0, 10):\n",
      "    A = np.zeros( (n, n) )\n",
      "\n",
      "    # Assemble the matrix one cell at a time. (This loops over interior cells, for indices 1, ..., n-2 inclusive.)\n",
      "    for i in range(1, n-1):\n",
      "        # The equation system is: -s(u_{i-1}^n - u_i^n) + u_i^n +s(u_i^n - u_{i+1}^n) = u_i^{n-1}, for i=0, ..., n-1.\n",
      "        # With f[i] = [1, -1], we get the follwing.\n",
      "        A[i, i-1:i+1] += -s*f[i]\n",
      "        A[i, i  ]     += 1\n",
      "        A[i, i:i+2]   += s*f[i+1]\n",
      "    \n",
      "    # Apply boundary conditions,  # u_i^n = u_i^n-1, for i=0 and i=n-1.\n",
      "    A[0, 0]     = 1\n",
      "    A[n-1, n-1] = 1\n",
      "    \n",
      "    if (~pl):\n",
      "        print \"A=\\n\", A, \"\\nu=\\n\", u\n",
      "    \n",
      "    # Solve\n",
      "    v = np.linalg.solve(A, u);\n",
      "    \n",
      "    u, v = v, u\n",
      "    \n",
      "    if (pl):\n",
      "        # Plot the solution\n",
      "        x = np.linspace(0.0, n-1, n) + 0.5\n",
      "        plot(x, u, 'r.-', label='$u^{k+1}$')\n",
      "        pylab.ylim([r0-0.5,r1+0.5])\n",
      "        time.sleep(0.2)\n",
      "        clear_output()\n",
      "        display(fig)\n",
      "        ax.cla()\n",
      "        title(\"Time = \" + str(dt*k))\n",
      "        legend()\n",
      "        \n",
      "if (pl):\n",
      "    plt.close()"
     ],
     "language": "python",
     "metadata": {},
     "outputs": [
      {
       "output_type": "display_data",
       "png": "[encoded data removed]",
       "text": [
        "<matplotlib.figure.Figure at 0x37b49d0>"
       ]
      }
     ],
     "prompt_number": 13
    },
    {
     "cell_type": "code",
     "collapsed": false,
     "input": [],
     "language": "python",
     "metadata": {},
     "outputs": [],
     "prompt_number": 101
    }
   ],
   "metadata": {}
  }
 ]
}