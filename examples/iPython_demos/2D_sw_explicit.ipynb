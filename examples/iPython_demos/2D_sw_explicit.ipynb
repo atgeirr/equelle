{
 "metadata": {
  "name": "2D_sw_explicit"
 },
 "nbformat": 3,
 "nbformat_minor": 0,
 "worksheets": [
  {
   "cells": [
    {
     "cell_type": "markdown",
     "metadata": {},
     "source": [
      "This demo example shows ..."
     ]
    },
    {
     "cell_type": "code",
     "collapsed": false,
     "input": [
      "%pylab inline"
     ],
     "language": "python",
     "metadata": {},
     "outputs": [
      {
       "output_type": "stream",
       "stream": "stdout",
       "text": [
        "\n",
        "Welcome to pylab, a matplotlib-based Python environment [backend: module://IPython.zmq.pylab.backend_inline].\n",
        "For more information, type 'help(pylab)'.\n"
       ]
      }
     ],
     "prompt_number": 1
    },
    {
     "cell_type": "code",
     "collapsed": false,
     "input": [
      "import numpy as np\n",
      "import time\n",
      "import matplotlib.pyplot as plt\n",
      "from IPython.display import clear_output\n",
      "from mpl_toolkits.mplot3d.axes3d import Axes3D"
     ],
     "language": "python",
     "metadata": {},
     "outputs": [],
     "prompt_number": 2
    },
    {
     "cell_type": "markdown",
     "metadata": {},
     "source": [
      "First, define some constants we need"
     ]
    },
    {
     "cell_type": "code",
     "collapsed": false,
     "input": [
      "# Grid spacing\n",
      "dx = 0.5\n",
      "\n",
      "# Number of grid cells in each direction of the grid\n",
      "m = 1\n",
      "n = 21\n",
      "\n",
      "# The grid itself\n",
      "Q = np.zeros((3, m, n))\n",
      "Q[0, :, :] = 1.0\n",
      "Q[0, m/2, n/2] = 3.0\n",
      "\n",
      "# Gravitational constant\n",
      "g = 9.80665"
     ],
     "language": "python",
     "metadata": {},
     "outputs": [],
     "prompt_number": 3
    },
    {
     "cell_type": "markdown",
     "metadata": {},
     "source": [
      "Vi \u00f8nsker \u00e5 l\u00f8se grundtvannslikningen eksplisitt\n",
      "\n",
      "Grundtvannslikningene kan skrives\n",
      "\n",
      "\\begin{aligned}\n",
      "\\left[\n",
      "\\begin{array}{c}\n",
      "h\\\\\\\n",
      "hu\\\\\\\n",
      "hv\n",
      "\\end{array}\n",
      "\\right]_t\n",
      "+\n",
      "\\left[\n",
      "\\begin{array}{c}\n",
      "hu\\\\\\\n",
      "hu^2 + \\tfrac{1}{2}gh^2\\\\\\\n",
      "huv\n",
      "\\end{array}\n",
      "\\right]_x\n",
      "+\n",
      "\\left[\n",
      "\\begin{array}{c}\n",
      "hv\\\\\\\n",
      "huv\\\\\\\n",
      "hv^2 + \\tfrac{1}{2}gh^2\n",
      "\\end{array}\n",
      "\\right]_y =\n",
      "\\left[\n",
      "\\begin{array}{c}\n",
      "0\\\\\\\n",
      "0\\\\\\\n",
      "0\n",
      "\\end{array}\n",
      "\\right].\n",
      "\\end{aligned}\n",
      "\n",
      "Her er $h$ vannh\u00f8yden, $hu$ fluxen langs x-aksen, og $hv$ fluxen langs y-aksen. Vi kan skrive det mer kompakt p\u00e5 vektor form som\n",
      "\n",
      "$Q_t + F(Q)_x + G(Q)_y = 0$\n",
      "\n",
      "Og diskretisere ved \u00e5 beregne fluxen inn og ut av hver celle:\n",
      "\n",
      "$$\n",
      "Q_t = - \\frac{ F\\_{i+1/2}(Q) - F\\_{i-1/2}(Q) }{ \\Delta x } - \\frac{ G\\_{j+1/2}(Q) - G\\_{j-1/2}(Q) }{ \\Delta y } \n",
      "$$\n",
      "\n",
      "Vi kan approksimere $F(Q)$ ved integrasjonspunktet mellom to celler med hjelp av central-upwind fluks funksjonen\n",
      "\n",
      "\n",
      "\\begin{aligned}\n",
      "F_{j+1/2}(Q^k) =\n",
      "\\frac{\n",
      "a^+\\_{j+1/2} F(Q^{k-}\\_{j+1/2}) - a^-\\_{j+1/2} F(Q^{k+}\\_{j+1/2})\n",
      "}{\n",
      "a^+\\_{j+1/2} - a^-\\_{j+1/2}\n",
      "}\n",
      "+\n",
      "\\frac{\n",
      "a^+\\_{j+1/2} a^-\\_{j+1/2}\n",
      "}{\n",
      "a^+\\_{j+1/2} - a^-\\_{j+1/2}\n",
      "}\n",
      "\\left(\n",
      "Q^{k+}\\_{j+1/2}-Q^{k-}\\_{j+1/2}\n",
      "\\right)\n",
      "\\end{aligned}\n",
      "\n",
      "Her er + brukt for \u00e5 vise at verdien tas fra h\u00f8yre side av interfacet, og - for \u00e5 vise at den tas fra venstre side av interfacet, og $a$ er st\u00f8rste/minste egenverdi for integrasjonspunktet (tilsvarer st\u00f8rste b\u00f8lgehastighet)"
     ]
    },
    {
     "cell_type": "code",
     "collapsed": false,
     "input": [
      "#Central upwind flux function\n",
      "def CU(Fl, Ql , Fr, Qr, ap, am):\n",
      "    return (ap*Fr - am*Fl) / (ap-am) + (ap*am)/(ap-am)*(Qr-Ql)\n",
      "\n",
      "#Find the discrete F-flux at an integration point\n",
      "def F(Ql, Qr):\n",
      "    #Find the maximum / minimum local wave speeds\n",
      "    cl = sqrt(g*Ql[0])\n",
      "    cr = sqrt(g*Qr[0])\n",
      "    ul = Ql[1]/Ql[0]\n",
      "    ur = Qr[1]/Qr[0]\n",
      "    am = min(min(ul-cl, ur-cr), 0.0)\n",
      "    ap = max(max(ul+cl, ur+cr), 0.0)\n",
      "    \n",
      "    #Define the local helper function Fh\n",
      "    def Fh(Q):\n",
      "        return np.array([\n",
      "            Q[1],\n",
      "            Q[1]*Q[1]/Q[0] + 0.5*g*Q[0]*Q[0],\n",
      "            Q[1]*Q[2]/Q[0]\n",
      "            ])\n",
      "    \n",
      "    Fl = Fh(Ql)\n",
      "    Fr = Fh(Qr)\n",
      "    \n",
      "    return CU(Fl, Ql, Fr, Qr, ap, am)\n",
      "\n",
      "#Find the discrete G-flux at an integration point\n",
      "def G(Ql, Qr):\n",
      "    #Find the maximum / minimum local wave speeds\n",
      "    cl = sqrt(g*Ql[0])\n",
      "    cr = sqrt(g*Qr[0])\n",
      "    vl = Ql[2]/Ql[0]\n",
      "    vr = Qr[2]/Qr[0]\n",
      "    am = min(min(vl-cl, vr-cr), 0.0)\n",
      "    ap = max(max(vl+cl, vr+cr), 0.0)\n",
      "    \n",
      "    #Define the local helper function Gh\n",
      "    def Gh(Q):\n",
      "        return np.array([\n",
      "            Q[2],\n",
      "            Q[1]*Q[2]/Q[0],\n",
      "            Q[2]*Q[2]/Q[0] + 0.5*g*Q[0]*Q[0]\n",
      "            ])\n",
      "    \n",
      "    Gl = Gh(Ql)\n",
      "    Gr = Gh(Qr)\n",
      "    \n",
      "    return CU(Gl, Ql, Gr, Qr, ap, am)"
     ],
     "language": "python",
     "metadata": {},
     "outputs": [],
     "prompt_number": 4
    },
    {
     "cell_type": "markdown",
     "metadata": {},
     "source": [
      "Vi beregner fluxen inn og ut av hver celle som f\u00f8lger\n",
      "\n",
      "$$\n",
      "Q^{k+1} = Q^k + \\Delta t \\left(\\frac{F_{j-1/2}(Q^k) - F_{j+1/2}(Q^k)}{\\Delta x} + \\frac{G_{j-1/2}(Q^k) - G_{j+1/2}(Q^k)}{\\Delta y} \\right) = Q^k + \\Delta t \\cdot R(Q^k)\n",
      "$$"
     ]
    },
    {
     "cell_type": "code",
     "collapsed": false,
     "input": [
      "fig, ax = plt.subplots()\n",
      "\n",
      "dt = 0.05\n",
      "\n",
      "\n",
      "#Perform timestepping\n",
      "for i in range(0, 1):\n",
      "    f = np.zeros((3, m, n-1))\n",
      "    g = np.zeros((3, m-1, n))\n",
      "    \n",
      "    # Loop over all intefaces and create the flux\n",
      "    for k in range(m):\n",
      "        for l in range(n-1):\n",
      "            print k, l\n",
      "            print Q[:, k, l],Q[:, k, l+1], \n",
      "            print F(Q[:, k, l], Q[:, k, l])\n",
      "            #f[:, k, l] = F(Q[:, k, l], Q[:, k, l+1])\n",
      "    #for k in range(m-1):\n",
      "    #    for l in range(n):\n",
      "    #        g[:, k, l] = G(Q[:, k, l], Q[:, k+1, l])\n",
      "    \n",
      "    # Loop over all internal cells and sum fluxes\n",
      "    for k in range(1, m-1):\n",
      "        for l in range(1, n-1):\n",
      "            Q[:, k, l] = Q[:, k, l] + dt * ( (f[:, k, l-1] - f[:, k, l])/dx + (g[:, k-1, l] - g[:, k, l])/dy )\n",
      "            \n",
      "    \n",
      "    #Boundary conditions (wall)\n",
      "    Q[0, :, 0] = Q[0, :, 1]\n",
      "    Q[0, :, -1] = Q[0, :, -2]\n",
      "    Q[1:2, :, 0] = -Q[1:2, :, 1]\n",
      "    Q[1:2, :, -1] = -Q[1:2, :, -2]\n",
      "\n",
      "    x = np.arange(0, n)\n",
      "    y = np.arange(0, m)\n",
      "    x, y = np.meshgrid(x, y)\n",
      "    ax = fig.gca(projection='3d')\n",
      "    ax.plot_wireframe(x, y, Q[0, :, :], rstride=1, cstride=1, antialiased=True);\n",
      "    time.sleep(0.2)\n",
      "    clear_output()\n",
      "    display(fig)\n",
      "    ax.cla()\n",
      "plt.close()"
     ],
     "language": "python",
     "metadata": {},
     "outputs": [
      {
       "ename": "ValueError",
       "evalue": "setting an array element with a sequence.",
       "output_type": "pyerr",
       "traceback": [
        "\u001b[1;31m---------------------------------------------------------------------------\u001b[0m\n\u001b[1;31mValueError\u001b[0m                                Traceback (most recent call last)",
        "\u001b[1;32m<ipython-input-8-5bed32581657>\u001b[0m in \u001b[0;36m<module>\u001b[1;34m()\u001b[0m\n\u001b[0;32m     14\u001b[0m             \u001b[1;32mprint\u001b[0m \u001b[0mk\u001b[0m\u001b[1;33m,\u001b[0m \u001b[0ml\u001b[0m\u001b[1;33m\u001b[0m\u001b[0m\n\u001b[0;32m     15\u001b[0m             \u001b[1;32mprint\u001b[0m \u001b[0mQ\u001b[0m\u001b[1;33m[\u001b[0m\u001b[1;33m:\u001b[0m\u001b[1;33m,\u001b[0m \u001b[0mk\u001b[0m\u001b[1;33m,\u001b[0m \u001b[0ml\u001b[0m\u001b[1;33m]\u001b[0m\u001b[1;33m,\u001b[0m\u001b[0mQ\u001b[0m\u001b[1;33m[\u001b[0m\u001b[1;33m:\u001b[0m\u001b[1;33m,\u001b[0m \u001b[0mk\u001b[0m\u001b[1;33m,\u001b[0m \u001b[0ml\u001b[0m\u001b[1;33m+\u001b[0m\u001b[1;36m1\u001b[0m\u001b[1;33m]\u001b[0m\u001b[1;33m,\u001b[0m\u001b[1;33m\u001b[0m\u001b[0m\n\u001b[1;32m---> 16\u001b[1;33m             \u001b[1;32mprint\u001b[0m \u001b[0mF\u001b[0m\u001b[1;33m(\u001b[0m\u001b[0mQ\u001b[0m\u001b[1;33m[\u001b[0m\u001b[1;33m:\u001b[0m\u001b[1;33m,\u001b[0m \u001b[0mk\u001b[0m\u001b[1;33m,\u001b[0m \u001b[0ml\u001b[0m\u001b[1;33m]\u001b[0m\u001b[1;33m,\u001b[0m \u001b[0mQ\u001b[0m\u001b[1;33m[\u001b[0m\u001b[1;33m:\u001b[0m\u001b[1;33m,\u001b[0m \u001b[0mk\u001b[0m\u001b[1;33m,\u001b[0m \u001b[0ml\u001b[0m\u001b[1;33m]\u001b[0m\u001b[1;33m)\u001b[0m\u001b[1;33m\u001b[0m\u001b[0m\n\u001b[0m\u001b[0;32m     17\u001b[0m             \u001b[1;31m#f[:, k, l] = F(Q[:, k, l], Q[:, k, l+1])\u001b[0m\u001b[1;33m\u001b[0m\u001b[1;33m\u001b[0m\u001b[0m\n\u001b[0;32m     18\u001b[0m     \u001b[1;31m#for k in range(m-1):\u001b[0m\u001b[1;33m\u001b[0m\u001b[1;33m\u001b[0m\u001b[0m\n",
        "\u001b[1;32m<ipython-input-4-de88e7100766>\u001b[0m in \u001b[0;36mF\u001b[1;34m(Ql, Qr)\u001b[0m\n\u001b[0;32m     21\u001b[0m             ])\n\u001b[0;32m     22\u001b[0m \u001b[1;33m\u001b[0m\u001b[0m\n\u001b[1;32m---> 23\u001b[1;33m     \u001b[0mFl\u001b[0m \u001b[1;33m=\u001b[0m \u001b[0mFh\u001b[0m\u001b[1;33m(\u001b[0m\u001b[0mQl\u001b[0m\u001b[1;33m)\u001b[0m\u001b[1;33m\u001b[0m\u001b[0m\n\u001b[0m\u001b[0;32m     24\u001b[0m     \u001b[0mFr\u001b[0m \u001b[1;33m=\u001b[0m \u001b[0mFh\u001b[0m\u001b[1;33m(\u001b[0m\u001b[0mQr\u001b[0m\u001b[1;33m)\u001b[0m\u001b[1;33m\u001b[0m\u001b[0m\n\u001b[0;32m     25\u001b[0m \u001b[1;33m\u001b[0m\u001b[0m\n",
        "\u001b[1;32m<ipython-input-4-de88e7100766>\u001b[0m in \u001b[0;36mFh\u001b[1;34m(Q)\u001b[0m\n\u001b[0;32m     18\u001b[0m             \u001b[0mQ\u001b[0m\u001b[1;33m[\u001b[0m\u001b[1;36m1\u001b[0m\u001b[1;33m]\u001b[0m\u001b[1;33m,\u001b[0m\u001b[1;33m\u001b[0m\u001b[0m\n\u001b[0;32m     19\u001b[0m             \u001b[0mQ\u001b[0m\u001b[1;33m[\u001b[0m\u001b[1;36m1\u001b[0m\u001b[1;33m]\u001b[0m\u001b[1;33m*\u001b[0m\u001b[0mQ\u001b[0m\u001b[1;33m[\u001b[0m\u001b[1;36m1\u001b[0m\u001b[1;33m]\u001b[0m\u001b[1;33m/\u001b[0m\u001b[0mQ\u001b[0m\u001b[1;33m[\u001b[0m\u001b[1;36m0\u001b[0m\u001b[1;33m]\u001b[0m \u001b[1;33m+\u001b[0m \u001b[1;36m0.5\u001b[0m\u001b[1;33m*\u001b[0m\u001b[0mg\u001b[0m\u001b[1;33m*\u001b[0m\u001b[0mQ\u001b[0m\u001b[1;33m[\u001b[0m\u001b[1;36m0\u001b[0m\u001b[1;33m]\u001b[0m\u001b[1;33m*\u001b[0m\u001b[0mQ\u001b[0m\u001b[1;33m[\u001b[0m\u001b[1;36m0\u001b[0m\u001b[1;33m]\u001b[0m\u001b[1;33m,\u001b[0m\u001b[1;33m\u001b[0m\u001b[0m\n\u001b[1;32m---> 20\u001b[1;33m             \u001b[0mQ\u001b[0m\u001b[1;33m[\u001b[0m\u001b[1;36m1\u001b[0m\u001b[1;33m]\u001b[0m\u001b[1;33m*\u001b[0m\u001b[0mQ\u001b[0m\u001b[1;33m[\u001b[0m\u001b[1;36m2\u001b[0m\u001b[1;33m]\u001b[0m\u001b[1;33m/\u001b[0m\u001b[0mQ\u001b[0m\u001b[1;33m[\u001b[0m\u001b[1;36m0\u001b[0m\u001b[1;33m]\u001b[0m\u001b[1;33m\u001b[0m\u001b[0m\n\u001b[0m\u001b[0;32m     21\u001b[0m             ])\n\u001b[0;32m     22\u001b[0m \u001b[1;33m\u001b[0m\u001b[0m\n",
        "\u001b[1;31mValueError\u001b[0m: setting an array element with a sequence."
       ]
      },
      {
       "output_type": "stream",
       "stream": "stdout",
       "text": [
        " 0 0\n",
        "[ 1.  0.  0.] [ 1.  0.  0.]"
       ]
      },
      {
       "output_type": "display_data",
       "png": "[encoded data removed]"
      }
     ],
     "prompt_number": 8
    },
    {
     "cell_type": "markdown",
     "metadata": {},
     "source": [
      "$\\Delta t$ er begrenset med f\u00f8lgende CFL-betingelse\n",
      "\n",
      "$$\n",
      "\\Delta t \\lt \\frac{1}{4} \\text{min}\\left\\\\{\\Delta x / |a_x|, \\Delta y / |a_y| \\right\\\\}\n",
      "$$\n",
      "\n",
      "hvor $a_{x}$ og $a_y$ er st\u00f8rste / minste egenverdi i domenet for $F$ og $G$ respektivt.\n",
      "\n",
      "Vi trenger i tillegg randkrav. I v\u00e5rt tilfelle benytter vi vegg randkrav, hvor vi benytter skygge-celler:\n",
      "\n",
      "$Q_{-1,-1} = Q_{0,0}, \\quad Q_{m+1, n+1} = Q_{m, n}$"
     ]
    },
    {
     "cell_type": "code",
     "collapsed": false,
     "input": [],
     "language": "python",
     "metadata": {},
     "outputs": []
    }
   ],
   "metadata": {}
  }
 ]
}