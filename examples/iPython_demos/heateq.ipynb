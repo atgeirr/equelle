{
 "metadata": {
  "name": "heateq"
 },
 "nbformat": 3,
 "nbformat_minor": 0,
 "worksheets": [
  {
   "cells": [
    {
     "cell_type": "code",
     "collapsed": false,
     "input": [
      "%%file heateq.equelle\n",
      "\n",
      "# Heat conduction with no boundary conditions or source terms.\n",
      "\n",
      "# Physics that requires specification\n",
      "k : Scalar = InputScalarWithDefault(\"k\", 0.3) # Heat diffusion constant.\n",
      "\n",
      "# @afr: time step strategy assumed given outside.\n",
      "dt : Scalar = InputScalarWithDefault(\"dt\", 0.5) # Time step length.\n",
      "\n",
      "# u0 should be given initial values (in user input)\n",
      "u0 : Collection Of Scalar On AllCells()\n",
      "u0 = InputCollectionOfScalar(\"u0\", AllCells())\n",
      "\n",
      "# Trying to add support for Dirichlet boundaries\n",
      "dirichlet_boundary : Collection Of Face Subset Of (BoundaryFaces())\n",
      "dirichlet_boundary = InputDomainSubsetOf(\"dirichlet_boundary\", BoundaryFaces())\n",
      "dirichlet_val : Collection Of Scalar On dirichlet_boundary\n",
      "dirichlet_val = InputCollectionOfScalar(\"dirichlet_val\", dirichlet_boundary)\n",
      "\n",
      "# Compute interior transmissibilities.\n",
      "vol = |AllCells()|                                         # Deduced type:  Collection Of Scalar On AllCells()\n",
      "interior_faces = InteriorFaces()                           # Deduced type:  Collection Of Face\n",
      "first = FirstCell(interior_faces)                          # Deduced type:  Collection Of Cell On interior_faces\n",
      "\t\t\t\t\t\t\t   # Equivalent to: Collection Of Cell On InteriorFaces()\n",
      "second = SecondCell(interior_faces)                        # Deduced type:  Same as for 'first'.\n",
      "itrans : Collection Of Scalar On interior_faces = k * |interior_faces| / |Centroid(first) - Centroid(second)| \n",
      "\n",
      "# Compute boundary transmissibilities.\n",
      "bf = BoundaryFaces()\n",
      "bf_cells = IsEmpty(FirstCell(bf)) ? SecondCell(bf) : FirstCell(bf)\n",
      "bf_sign = IsEmpty(FirstCell(bf)) ? (-1 Extend bf) : (1 Extend bf)\n",
      "btrans = k * |bf| / |Centroid(bf) - Centroid(bf_cells)|\n",
      "\n",
      "# Compute quantities needed for boundary conditions.\n",
      "dir_sign = bf_sign On dirichlet_boundary\n",
      "\n",
      "# Compute flux for interior faces.\n",
      "computeInteriorFlux : Function(u : Collection Of Scalar On AllCells()) -> Collection Of Scalar On InteriorFaces()\n",
      "computeInteriorFlux(u) = {\n",
      "    -> -itrans * Gradient(u)\n",
      "}\n",
      "\n",
      "# Compute flux for boundary faces.\n",
      "computeBoundaryFlux : Function(u : Collection Of Scalar On AllCells()) -> Collection Of Scalar On BoundaryFaces()\n",
      "computeBoundaryFlux(u) = {\n",
      "    # Compute flux at Dirichlet boundaries.\n",
      "    u_dirbdycells = u On (bf_cells On dirichlet_boundary)\n",
      "    dir_fluxes = (btrans On dirichlet_boundary) * dir_sign * (u_dirbdycells - dirichlet_val)\n",
      "    # Extending with zero away from Dirichlet boundaries (i.e. assuming no-flow elsewhere).\n",
      "    -> dir_fluxes Extend BoundaryFaces()\n",
      "}\n",
      "\n",
      "# Compute the residual for the heat equation.\n",
      "computeResidual : Function(u : Collection Of Scalar On AllCells()) -> Collection Of Scalar On AllCells()\n",
      "computeResidual(u) = {\n",
      "    ifluxes = computeInteriorFlux(u)\n",
      "    bfluxes = computeBoundaryFlux(u)\n",
      "    # Extend both ifluxes and bfluxes to AllFaces() and add to get all fluxes.\n",
      "    fluxes = (ifluxes Extend AllFaces()) + (bfluxes Extend AllFaces())\n",
      "    # Deduced type: Collection Of Scalar On AllCells()\n",
      "    residual = u - u0 + (dt / vol) * Divergence(fluxes)\n",
      "    -> residual\n",
      "}\n",
      "\n",
      "# NewtonSolve takes a function (that should accept the primary variable as input) and the initial guess for the primary variable.\n",
      "explicitu = u0 - computeResidual(u0)\n",
      "u = NewtonSolve(computeResidual, u0)\n",
      "\n",
      "Output(\"explicitu\", explicitu)\n",
      "Output(\"u\", u)\n"
     ],
     "language": "python",
     "metadata": {},
     "outputs": [
      {
       "output_type": "stream",
       "stream": "stdout",
       "text": [
        "Overwriting heateq.equelle"
       ]
      },
      {
       "output_type": "stream",
       "stream": "stdout",
       "text": [
        "\n"
       ]
      }
     ],
     "prompt_number": 7
    },
    {
     "cell_type": "code",
     "collapsed": false,
     "input": [
      "!/home/jse/projects/equelle/compiler/ec < heateq.equelle > heateq.cpp"
     ],
     "language": "python",
     "metadata": {},
     "outputs": [],
     "prompt_number": 9
    },
    {
     "cell_type": "code",
     "collapsed": false,
     "input": [
      "!cat heateq.cpp"
     ],
     "language": "python",
     "metadata": {},
     "outputs": [
      {
       "output_type": "stream",
       "stream": "stdout",
       "text": [
        "\r\n",
        "// This program was created by the Equelle compiler from SINTEF.\r\n",
        "\r\n",
        "#include <opm/core/utility/parameters/ParameterGroup.hpp>\r\n",
        "#include <opm/core/linalg/LinearSolverFactory.hpp>\r\n",
        "#include <opm/core/utility/ErrorMacros.hpp>\r\n",
        "#include <opm/autodiff/AutoDiffBlock.hpp>\r\n",
        "#include <opm/autodiff/AutoDiffHelpers.hpp>\r\n",
        "#include <opm/core/grid.h>\r\n",
        "#include <opm/core/grid/GridManager.hpp>\r\n",
        "#include <algorithm>\r\n",
        "#include <iterator>\r\n",
        "#include <iostream>\r\n",
        "#include <cmath>\r\n",
        "#include <array>\r\n",
        "\r\n",
        "#include \"EquelleRuntimeCPU.hpp\"\r\n",
        "\r\n",
        "void ensureRequirements(const EquelleRuntimeCPU& er);\r\n",
        "\r\n",
        "int main(int argc, char** argv)\r\n",
        "{\r\n",
        "    // Get user parameters.\r\n",
        "    Opm::parameter::ParameterGroup param(argc, argv, false);\r\n",
        "\r\n",
        "    // Create the Equelle runtime.\r\n",
        "    EquelleRuntimeCPU er(param);\r\n",
        "\r\n",
        "    ensureRequirements(er);\r\n",
        "\r\n",
        "    // ============= Generated code starts here ================\r\n",
        "\r\n",
        "    const Scalar k = er.inputScalarWithDefault(\"k\", double(0.3));\r\n",
        "    const Scalar dt = er.inputScalarWithDefault(\"dt\", double(0.5));\r\n",
        "    const CollOfScalar u0 = er.inputCollectionOfScalar(\"u0\", er.allCells());\r\n",
        "    const CollOfFace dirichlet_boundary = er.inputDomainSubsetOf(\"dirichlet_boundary\", er.boundaryFaces());\r\n",
        "    const CollOfScalar dirichlet_val = er.inputCollectionOfScalar(\"dirichlet_val\", dirichlet_boundary);\r\n",
        "    const CollOfScalar vol = er.norm(er.allCells());\r\n",
        "    const CollOfFace interior_faces = er.interiorFaces();\r\n",
        "    const CollOfCell first = er.firstCell(interior_faces);\r\n",
        "    const CollOfCell second = er.secondCell(interior_faces);\r\n",
        "    const CollOfScalar itrans = (k * (er.norm(interior_faces) / er.norm((er.centroid(first) - er.centroid(second)))));\r\n",
        "    const CollOfFace bf = er.boundaryFaces();\r\n",
        "    const CollOfCell bf_cells = er.trinaryIf(er.isEmpty(er.firstCell(bf)), er.secondCell(bf), er.firstCell(bf));\r\n",
        "    const CollOfScalar bf_sign = er.trinaryIf(er.isEmpty(er.firstCell(bf)), er.operatorExtend(-double(1), bf), er.operatorExtend(double(1), bf));\r\n",
        "    const CollOfScalar btrans = (k * (er.norm(bf) / er.norm((er.centroid(bf) - er.centroid(bf_cells)))));\r\n",
        "    const CollOfScalar dir_sign = er.operatorOn(bf_sign, er.boundaryFaces(), dirichlet_boundary);\r\n",
        "    std::function<CollOfScalar(const CollOfScalar&)> computeInteriorFlux = [&](const CollOfScalar& u) -> CollOfScalar {\r\n",
        "        return (-itrans * er.gradient(u));\r\n",
        "    };\r\n",
        "    std::function<CollOfScalar(const CollOfScalar&)> computeBoundaryFlux = [&](const CollOfScalar& u) -> CollOfScalar {\r\n",
        "        const CollOfScalar u_dirbdycells = er.operatorOn(u, er.allCells(), er.operatorOn(bf_cells, er.boundaryFaces(), dirichlet_boundary));\r\n",
        "        const CollOfScalar dir_fluxes = ((er.operatorOn(btrans, er.boundaryFaces(), dirichlet_boundary) * dir_sign) * (u_dirbdycells - dirichlet_val));\r\n",
        "        return er.operatorExtend(dir_fluxes, dirichlet_boundary, er.boundaryFaces());\r\n",
        "    };\r\n",
        "    std::function<CollOfScalar(const CollOfScalar&)> computeResidual = [&](const CollOfScalar& u) -> CollOfScalar {\r\n",
        "        const CollOfScalar ifluxes = computeInteriorFlux(u);\r\n",
        "        const CollOfScalar bfluxes = computeBoundaryFlux(u);\r\n",
        "        const CollOfScalar fluxes = (er.operatorExtend(ifluxes, er.interiorFaces(), er.allFaces()) + er.operatorExtend(bfluxes, er.boundaryFaces(), er.allFaces()));\r\n",
        "        const CollOfScalar residual = ((u - u0) + ((dt / vol) * er.divergence(fluxes)));\r\n",
        "        return residual;\r\n",
        "    };\r\n",
        "    const CollOfScalar explicitu = (u0 - computeResidual(u0));\r\n",
        "    const CollOfScalar u = er.newtonSolve(computeResidual, u0);\r\n",
        "    er.output(\"explicitu\", explicitu);\r\n",
        "    er.output(\"u\", u);\r\n",
        "\r\n",
        "    // ============= Generated code ends here ================\r\n",
        "\r\n",
        "    return 0;\r\n",
        "}\r\n",
        "\r\n",
        "void ensureRequirements(const EquelleRuntimeCPU& er)\r\n",
        "{\r\n",
        "    (void)er;\r\n",
        "}\r\n"
       ]
      }
     ],
     "prompt_number": 10
    },
    {
     "cell_type": "code",
     "collapsed": false,
     "input": [
      "!g++ -Wall -I/usr/include/eigen3 -I/home/jse/projects/equelle/examples/include  -std=c++11 heateq.cpp -o heateq -lopmautodiff -lopmcore -ldunecommon /home/jse/projects/equelle/examples/build/libequelle_rt.a"
     ],
     "language": "python",
     "metadata": {},
     "outputs": [],
     "prompt_number": 19
    },
    {
     "cell_type": "code",
     "collapsed": false,
     "input": [
      "!./heateq"
     ],
     "language": "python",
     "metadata": {},
     "outputs": [
      {
       "output_type": "stream",
       "stream": "stdout",
       "text": [
        "grid_dim not found. Using default value '2'.\r\n",
        "ny not found. Using default value '1'.\r\n",
        "dy not found. Using default value '1'.\r\n",
        "nx not found. Using default value '6'.\r\n",
        "dx not found. Using default value '1'.\r\n",
        "linsolver not found. Using default value 'umfpack'.\r\n",
        "output_to_file not found. Using default value 'false'.\r\n",
        "verbose not found. Using default value '0'.\r\n",
        "max_iter not found. Using default value '10'.\r\n",
        "abs_res_tol not found. Using default value '1e-06'.\r\n",
        "k not found. Using default value '0.3'.\r\n",
        "dt not found. Using default value '0.5'.\r\n",
        "u0_from_file not found. Using default value 'false'.\r\n",
        "ERROR: The group '' does not contain an element named 'u0'.\r\n",
        "terminate called after throwing an instance of 'Opm::parameter::ParameterGroup::NotFoundException'\r\n",
        "  what():  std::exception\r\n"
       ]
      },
      {
       "output_type": "stream",
       "stream": "stdout",
       "text": [
        "Aborted (core dumped)\r\n"
       ]
      }
     ],
     "prompt_number": 20
    },
    {
     "cell_type": "code",
     "collapsed": false,
     "input": [],
     "language": "python",
     "metadata": {},
     "outputs": []
    }
   ],
   "metadata": {}
  }
 ]
}