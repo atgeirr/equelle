{
 "metadata": {
  "name": "1D_heat_explicit"
 },
 "nbformat": 3,
 "nbformat_minor": 0,
 "worksheets": [
  {
   "cells": [
    {
     "cell_type": "markdown",
     "metadata": {},
     "source": [
      "This demo example shows ..."
     ]
    },
    {
     "cell_type": "code",
     "collapsed": false,
     "input": [
      "%pylab inline"
     ],
     "language": "python",
     "metadata": {},
     "outputs": [
      {
       "output_type": "stream",
       "stream": "stdout",
       "text": [
        "\n",
        "Welcome to pylab, a matplotlib-based Python environment [backend: module://IPython.zmq.pylab.backend_inline].\n",
        "For more information, type 'help(pylab)'.\n"
       ]
      }
     ],
     "prompt_number": 13
    },
    {
     "cell_type": "markdown",
     "metadata": {},
     "source": [
      "Vi \u00f8nsker \u00e5 l\u00f8se varmelikningen eksplisitt\n",
      "\n",
      "Varmelikningen er \n",
      "\n",
      "$\\frac{\\delta u}{\\delta t} = \\kappa \\frac{\\delta^2u}{\\delta x^2}$\n",
      "\n",
      "Diskretisert explisitt med hensyn p\u00e5 tid f\u00e5r vi\n",
      "\n",
      "$\\frac{1}{\\Delta t}\\left(u_i^{k+1} - u_i^{k}\\right) = \\frac{\\kappa}{\\Delta x^2} \\left(u^k_{i-1} - 2u_i^k + u_{i+1}^k \\right)$\n",
      "\n",
      "og v\u00e5r stensil\n",
      "\n",
      "$u_i^{k+1} =  su^k_{i-1} +(1-2s)u_i^k + su_{i+1}^k , \\quad s=\\frac{\\kappa\\Delta t}{\\Delta x^2}$\n",
      "\n",
      "Vi \u00f8nsker ikke \u00e5 anta at vi har kartesiske grid, og vil derfor ha en stensil som beskriver fluxen over en face. Dette kan gj\u00f8res som f\u00f8lger:\n",
      "\n",
      "$\n",
      "\\begin{eqnarray}\n",
      "\\Delta u_i^k &=& u_i^{k+1} - u_i^k\\\\\\\n",
      "&=& su_{i-1}^k - 2su_i^k + s_{i+1}^k\\\\\\\n",
      "&=& s(u_{i-1}^k - u_i^k) - s(u_i^k - u_{i+1}^k)\\\\\\\n",
      "&=& F(u)^k_{i-1/2} - F(u)^k_{i+1/2}\n",
      "\\end{eqnarray}\n",
      "$\n",
      "\n",
      "Vi kan n\u00e5 splitte beregningen opp i to deler:\n",
      "\n",
      "1. Beregn flux for hver face\n",
      "2. Summer fluxer for hver celle\n",
      "\n",
      "L\u00f8sningen blir ustabil hvis vi ikke oppfyller CFL-kravet\n",
      "\n",
      "$\\frac{1}{2} \\lt \\frac{\\kappa \\Delta t}{\\Delta x^2}$\n",
      "\n",
      "eller med andre ord\n",
      "\n",
      "$\\Delta t \\lt \\frac{\\Delta x^2}{2\\kappa}$\n",
      "\n",
      "Her er $u_i^k$ temperaturen i punktet $i\\cdot\\Delta x$ ved tid $k\\cdot\\Delta t$.\n",
      "\n",
      "Vi trenger i tillegg randkrav. I v\u00e5rt tilfelle benytter vi fixed randkrav, hvor\n",
      "\n",
      "$u_0^k = r_0, u_n^k = r_1 \\forall k$"
     ]
    },
    {
     "cell_type": "code",
     "collapsed": false,
     "input": [
      "import numpy as np\n",
      "import time\n",
      "import matplotlib.pyplot as plt\n",
      "from IPython.display import clear_output\n",
      "\n",
      "# Grid spacing\n",
      "dx = 0.5\n",
      "\n",
      "# Heat diffusion constant\n",
      "kappa = 0.3\n",
      "\n",
      "# Maximum time step size (constrained by CFL)\n",
      "dt = dx*dx/(2*kappa)\n",
      "\n",
      "# Number of grid cells\n",
      "n = 10\n",
      "\n",
      "# Boundary conditions\n",
      "r0 = 0.5\n",
      "r1 = 1.5\n",
      "\n",
      "# Initial temperatures\n",
      "u = np.linspace(0.0, 0.0, n)\n",
      "u[0] = r0\n",
      "u[n-1] = r1\n",
      "\n",
      "s = kappa * dt / (dx*dx)\n",
      "    \n",
      "def F(u_l, u_r):\n",
      "    return s*(u_l - u_r)\n",
      "\n",
      "fig, ax = plt.subplots()\n",
      "\n",
      "f = np.linspace(0.0, 0.0, int(n+1)) #n+1 interfaces for n cells \n",
      "#Perform one timestep\n",
      "for k in range(0, 50):\n",
      "    \n",
      "    # Calculate all fluxes for internal interfaces\n",
      "    # Let the end interfaces equal 0\n",
      "    for i in range(1, n):\n",
      "        f[i] = F(u[i-1], u[i]) #f[i] corresponds to the flux between cell i and i-1 (F_{i-1/2})\n",
      "    \n",
      "    #Sum all fluxes for each cell\n",
      "    for i in range(0, n):\n",
      "        u[i] = u[i] + f[i] - f[i+1]\n",
      "        \n",
      "    # Apply boundary conditions\n",
      "    u[0] = r0\n",
      "    u[n-1] = r1\n",
      "    \n",
      "    # Plot the solution\n",
      "    x = linspace(0.0, n-1, n) + 0.5\n",
      "    plot(x, u, 'r.-', label='$u^{k+1}$')\n",
      "    plot(f, 'b.--', label='$f^{k}$')\n",
      "    pylab.ylim([r0-0.5,r1+0.5])\n",
      "    time.sleep(0.2)\n",
      "    clear_output()\n",
      "    display(fig)\n",
      "    ax.cla()\n",
      "    title(\"Time = \" + str(dt*k))\n",
      "    legend()\n",
      "plt.close()"
     ],
     "language": "python",
     "metadata": {},
     "outputs": [
      {
       "ename": "AttributeError",
       "evalue": "'AxesSubplot' object has no attribute 'ylim'",
       "output_type": "pyerr",
       "traceback": [
        "\u001b[1;31m---------------------------------------------------------------------------\u001b[0m\n\u001b[1;31mAttributeError\u001b[0m                            Traceback (most recent call last)",
        "\u001b[1;32m<ipython-input-81-42c12ec66531>\u001b[0m in \u001b[0;36m<module>\u001b[1;34m()\u001b[0m\n\u001b[0;32m     31\u001b[0m \u001b[1;33m\u001b[0m\u001b[0m\n\u001b[0;32m     32\u001b[0m \u001b[0mfig\u001b[0m\u001b[1;33m,\u001b[0m \u001b[0max\u001b[0m \u001b[1;33m=\u001b[0m \u001b[0mplt\u001b[0m\u001b[1;33m.\u001b[0m\u001b[0msubplots\u001b[0m\u001b[1;33m(\u001b[0m\u001b[1;33m)\u001b[0m\u001b[1;33m\u001b[0m\u001b[0m\n\u001b[1;32m---> 33\u001b[1;33m \u001b[0max\u001b[0m\u001b[1;33m.\u001b[0m\u001b[0mylim\u001b[0m\u001b[1;33m(\u001b[0m\u001b[1;33m[\u001b[0m\u001b[0mr0\u001b[0m\u001b[1;33m-\u001b[0m\u001b[1;36m0.5\u001b[0m\u001b[1;33m,\u001b[0m\u001b[0mr1\u001b[0m\u001b[1;33m+\u001b[0m\u001b[1;36m0.5\u001b[0m\u001b[1;33m]\u001b[0m\u001b[1;33m)\u001b[0m\u001b[1;33m\u001b[0m\u001b[0m\n\u001b[0m\u001b[0;32m     34\u001b[0m \u001b[0max\u001b[0m\u001b[1;33m.\u001b[0m\u001b[0mset_autoscaley_on\u001b[0m\u001b[1;33m(\u001b[0m\u001b[0mFalse\u001b[0m\u001b[1;33m)\u001b[0m\u001b[1;33m\u001b[0m\u001b[0m\n\u001b[0;32m     35\u001b[0m \u001b[1;33m\u001b[0m\u001b[0m\n",
        "\u001b[1;31mAttributeError\u001b[0m: 'AxesSubplot' object has no attribute 'ylim'"
       ]
      }
     ],
     "prompt_number": 81
    },
    {
     "cell_type": "code",
     "collapsed": false,
     "input": [
      "*"
     ],
     "language": "python",
     "metadata": {},
     "outputs": []
    }
   ],
   "metadata": {}
  }
 ]
}