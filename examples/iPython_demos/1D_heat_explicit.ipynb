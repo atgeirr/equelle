{
 "metadata": {
  "name": "1D_heat_explicit"
 },
 "nbformat": 3,
 "nbformat_minor": 0,
 "worksheets": [
  {
   "cells": [
    {
     "cell_type": "markdown",
     "metadata": {},
     "source": [
      "This demo example shows ..."
     ]
    },
    {
     "cell_type": "code",
     "collapsed": false,
     "input": [
      "%pylab inline"
     ],
     "language": "python",
     "metadata": {},
     "outputs": [
      {
       "output_type": "stream",
       "stream": "stdout",
       "text": [
        "\n",
        "Welcome to pylab, a matplotlib-based Python environment [backend: module://IPython.zmq.pylab.backend_inline].\n",
        "For more information, type 'help(pylab)'.\n"
       ]
      }
     ],
     "prompt_number": 3
    },
    {
     "cell_type": "markdown",
     "metadata": {},
     "source": [
      "Vi \u00f8nsker \u00e5 l\u00f8se varmelikningen eksplisitt\n",
      "\n",
      "Varmelikningen er \n",
      "\n",
      "$\\frac{\\delta u}{\\delta t} = \\kappa \\frac{\\delta^2u}{\\delta x^2}$\n",
      "\n",
      "Diskretisert explisitt med hensyn p\u00e5 tid f\u00e5r vi\n",
      "\n",
      "$\\frac{1}{\\Delta t}\\left(u_i^{k+1} - u_i^{k}\\right) = \\frac{\\kappa}{\\Delta x^2} \\left(u^k_{i-1} - 2u_i^k + u_{i+1}^k \\right)$\n",
      "\n",
      "og v\u00e5r stensil\n",
      "\n",
      "$u_i^{k+1} =  su^k_{i-1} +(1-2s)u_i^k + su_{i+1}^k , \\quad s=\\frac{\\kappa\\Delta t}{\\Delta x^2}$\n",
      "\n",
      "L\u00f8sningen blir ustabil hvis vi ikke oppfyller CFL-kravet\n",
      "\n",
      "$\\frac{1}{2} \\lt \\frac{\\kappa \\Delta t}{\\Delta x^2}$\n",
      "\n",
      "eller med andre ord\n",
      "\n",
      "$\\Delta t \\lt \\frac{\\Delta x^2}{2\\kappa}$\n",
      "\n",
      "Her er $u_i^k$ temperaturen i punktet $i\\cdot\\Delta x$ ved tid $k\\cdot\\Delta t$.\n",
      "\n",
      "Vi trenger i tillegg randkrav. I v\u00e5rt tilfelle benytter vi fixed randkrav, hvor\n",
      "\n",
      "$u_0^k = r_0, u_n^k = r_1 \\forall k$"
     ]
    },
    {
     "cell_type": "code",
     "collapsed": false,
     "input": [
      "import numpy as np\n",
      "import time\n",
      "import matplotlib.pyplot as plt\n",
      "from IPython.display import clear_output\n",
      "\n",
      "# Grid spacing\n",
      "dx = 0.5\n",
      "\n",
      "# Heat diffusion constant\n",
      "kappa = 0.3\n",
      "\n",
      "# Maximum time step size (constrained by CFL)\n",
      "dt = dx*dx/(2*kappa)\n",
      "\n",
      "# Number of grid cells\n",
      "n = 10\n",
      "\n",
      "# Boundary conditions\n",
      "r0 = 0.5\n",
      "r1 = 1.5\n",
      "\n",
      "# Initial temperatures\n",
      "u = np.linspace(0.0, 0.0, n);\n",
      "u[0] = r0\n",
      "u[n-1] = r1\n",
      "\n",
      "f, ax = plt.subplots()\n",
      "\n",
      "#Perform one timestep\n",
      "for k in range(0, 50):\n",
      "    v = np.linspace(0.0, 0.0, n);\n",
      "    v[0] = r0\n",
      "    v[n-1] = r1\n",
      "    s = kappa * dt / (dx*dx)\n",
      "    for i in range(1, n-1):\n",
      "        v[i] = s*u[i-1] + (1-2*s)*u[i] + s*u[i+1]\n",
      "    u, v = v, u #swap\n",
      "\n",
      "    # Plot the solution\n",
      "    #plot(u, label='$u^k$')\n",
      "    plot(v, label='$u^{k+1}$')\n",
      "    time.sleep(0.5)\n",
      "    clear_output()\n",
      "    display(f)\n",
      "    ax.cla()\n",
      "    title(\"Time = \" + str(dt*k))\n",
      "    hold(True)\n",
      "    #legend()\n",
      "plt.close()"
     ],
     "language": "python",
     "metadata": {},
     "outputs": [
      {
       "output_type": "display_data",
       "png": "[encoded data removed]",
       "text": [
        "<matplotlib.figure.Figure at 0x6d70fb0>"
       ]
      }
     ],
     "prompt_number": 36
    },
    {
     "cell_type": "code",
     "collapsed": false,
     "input": [],
     "language": "python",
     "metadata": {},
     "outputs": []
    }
   ],
   "metadata": {}
  }
 ]
}